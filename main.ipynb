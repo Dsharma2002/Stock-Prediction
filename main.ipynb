{
 "cells": [
  {
   "cell_type": "code",
   "execution_count": 1,
   "id": "b4617f94-cce8-407d-a95a-c6f0dd467e5e",
   "metadata": {},
   "outputs": [],
   "source": [
    "import numpy as np\n",
    "import pandas as pd\n",
    "import yfinance as yf\n",
    "import matplotlib.pyplot as plt\n",
    "\n",
    "import torch\n",
    "import torch.nn as nn\n",
    "import torch.optim as optim\n",
    "\n",
    "from sklearn.preprocessing import StandardScaler\n",
    "from sklearn.metrics import root_mean_squared_error"
   ]
  },
  {
   "cell_type": "code",
   "execution_count": 2,
   "id": "ea2d3d23-3341-4814-9cef-ad6533a8a63f",
   "metadata": {},
   "outputs": [],
   "source": [
    "device = torch.device(\"cuda\" if torch.cuda.is_available() else \"cpu\")"
   ]
  },
  {
   "cell_type": "code",
   "execution_count": 5,
   "id": "13304e8c",
   "metadata": {},
   "outputs": [
    {
     "name": "stderr",
     "output_type": "stream",
     "text": [
      "/var/folders/yv/vh7rldds4k9bqhgcldmc2h580000gn/T/ipykernel_70626/3142132640.py:2: FutureWarning: YF.download() has changed argument auto_adjust default to True\n",
      "  df = yf.download(ticker, start='2020-01-01')\n",
      "[*********************100%***********************]  1 of 1 completed\n"
     ]
    }
   ],
   "source": [
    "ticker = 'AAPL'\n",
    "df = yf.download(ticker, start='2020-01-01')"
   ]
  },
  {
   "cell_type": "code",
   "execution_count": 6,
   "id": "d5e15391",
   "metadata": {},
   "outputs": [
    {
     "data": {
      "text/html": [
       "<div>\n",
       "<style scoped>\n",
       "    .dataframe tbody tr th:only-of-type {\n",
       "        vertical-align: middle;\n",
       "    }\n",
       "\n",
       "    .dataframe tbody tr th {\n",
       "        vertical-align: top;\n",
       "    }\n",
       "\n",
       "    .dataframe thead tr th {\n",
       "        text-align: left;\n",
       "    }\n",
       "\n",
       "    .dataframe thead tr:last-of-type th {\n",
       "        text-align: right;\n",
       "    }\n",
       "</style>\n",
       "<table border=\"1\" class=\"dataframe\">\n",
       "  <thead>\n",
       "    <tr>\n",
       "      <th>Price</th>\n",
       "      <th>Close</th>\n",
       "      <th>High</th>\n",
       "      <th>Low</th>\n",
       "      <th>Open</th>\n",
       "      <th>Volume</th>\n",
       "    </tr>\n",
       "    <tr>\n",
       "      <th>Ticker</th>\n",
       "      <th>AAPL</th>\n",
       "      <th>AAPL</th>\n",
       "      <th>AAPL</th>\n",
       "      <th>AAPL</th>\n",
       "      <th>AAPL</th>\n",
       "    </tr>\n",
       "    <tr>\n",
       "      <th>Date</th>\n",
       "      <th></th>\n",
       "      <th></th>\n",
       "      <th></th>\n",
       "      <th></th>\n",
       "      <th></th>\n",
       "    </tr>\n",
       "  </thead>\n",
       "  <tbody>\n",
       "    <tr>\n",
       "      <th>2020-01-02</th>\n",
       "      <td>72.620850</td>\n",
       "      <td>72.681296</td>\n",
       "      <td>71.373226</td>\n",
       "      <td>71.627100</td>\n",
       "      <td>135480400</td>\n",
       "    </tr>\n",
       "    <tr>\n",
       "      <th>2020-01-03</th>\n",
       "      <td>71.914848</td>\n",
       "      <td>72.676477</td>\n",
       "      <td>71.689988</td>\n",
       "      <td>71.847148</td>\n",
       "      <td>146322800</td>\n",
       "    </tr>\n",
       "    <tr>\n",
       "      <th>2020-01-06</th>\n",
       "      <td>72.487839</td>\n",
       "      <td>72.526526</td>\n",
       "      <td>70.783241</td>\n",
       "      <td>71.034702</td>\n",
       "      <td>118387200</td>\n",
       "    </tr>\n",
       "    <tr>\n",
       "      <th>2020-01-07</th>\n",
       "      <td>72.146942</td>\n",
       "      <td>72.753823</td>\n",
       "      <td>71.926915</td>\n",
       "      <td>72.497529</td>\n",
       "      <td>108872000</td>\n",
       "    </tr>\n",
       "    <tr>\n",
       "      <th>2020-01-08</th>\n",
       "      <td>73.307510</td>\n",
       "      <td>73.609745</td>\n",
       "      <td>71.849533</td>\n",
       "      <td>71.849533</td>\n",
       "      <td>132079200</td>\n",
       "    </tr>\n",
       "    <tr>\n",
       "      <th>...</th>\n",
       "      <td>...</td>\n",
       "      <td>...</td>\n",
       "      <td>...</td>\n",
       "      <td>...</td>\n",
       "      <td>...</td>\n",
       "    </tr>\n",
       "    <tr>\n",
       "      <th>2025-06-09</th>\n",
       "      <td>201.449997</td>\n",
       "      <td>206.000000</td>\n",
       "      <td>200.020004</td>\n",
       "      <td>204.389999</td>\n",
       "      <td>72862600</td>\n",
       "    </tr>\n",
       "    <tr>\n",
       "      <th>2025-06-10</th>\n",
       "      <td>202.669998</td>\n",
       "      <td>204.350006</td>\n",
       "      <td>200.570007</td>\n",
       "      <td>200.600006</td>\n",
       "      <td>54672600</td>\n",
       "    </tr>\n",
       "    <tr>\n",
       "      <th>2025-06-11</th>\n",
       "      <td>198.779999</td>\n",
       "      <td>204.500000</td>\n",
       "      <td>198.410004</td>\n",
       "      <td>203.500000</td>\n",
       "      <td>60989900</td>\n",
       "    </tr>\n",
       "    <tr>\n",
       "      <th>2025-06-12</th>\n",
       "      <td>199.199997</td>\n",
       "      <td>199.679993</td>\n",
       "      <td>197.360001</td>\n",
       "      <td>199.080002</td>\n",
       "      <td>43904600</td>\n",
       "    </tr>\n",
       "    <tr>\n",
       "      <th>2025-06-13</th>\n",
       "      <td>196.449997</td>\n",
       "      <td>200.369995</td>\n",
       "      <td>195.699997</td>\n",
       "      <td>199.729996</td>\n",
       "      <td>51362400</td>\n",
       "    </tr>\n",
       "  </tbody>\n",
       "</table>\n",
       "<p>1370 rows × 5 columns</p>\n",
       "</div>"
      ],
      "text/plain": [
       "Price            Close        High         Low        Open     Volume\n",
       "Ticker            AAPL        AAPL        AAPL        AAPL       AAPL\n",
       "Date                                                                 \n",
       "2020-01-02   72.620850   72.681296   71.373226   71.627100  135480400\n",
       "2020-01-03   71.914848   72.676477   71.689988   71.847148  146322800\n",
       "2020-01-06   72.487839   72.526526   70.783241   71.034702  118387200\n",
       "2020-01-07   72.146942   72.753823   71.926915   72.497529  108872000\n",
       "2020-01-08   73.307510   73.609745   71.849533   71.849533  132079200\n",
       "...                ...         ...         ...         ...        ...\n",
       "2025-06-09  201.449997  206.000000  200.020004  204.389999   72862600\n",
       "2025-06-10  202.669998  204.350006  200.570007  200.600006   54672600\n",
       "2025-06-11  198.779999  204.500000  198.410004  203.500000   60989900\n",
       "2025-06-12  199.199997  199.679993  197.360001  199.080002   43904600\n",
       "2025-06-13  196.449997  200.369995  195.699997  199.729996   51362400\n",
       "\n",
       "[1370 rows x 5 columns]"
      ]
     },
     "execution_count": 6,
     "metadata": {},
     "output_type": "execute_result"
    }
   ],
   "source": [
    "df"
   ]
  },
  {
   "cell_type": "code",
   "execution_count": 8,
   "id": "96972d81",
   "metadata": {},
   "outputs": [
    {
     "data": {
      "text/plain": [
       "<Axes: xlabel='Date'>"
      ]
     },
     "execution_count": 8,
     "metadata": {},
     "output_type": "execute_result"
    },
    {
     "data": {
      "image/png": "[encoded data removed]",
      "text/plain": [
       "<Figure size 1000x500 with 1 Axes>"
      ]
     },
     "metadata": {},
     "output_type": "display_data"
    }
   ],
   "source": [
    "df.Close.plot(figsize=(10,5))"
   ]
  },
  {
   "cell_type": "code",
   "execution_count": 26,
   "id": "dd9410d3",
   "metadata": {},
   "outputs": [],
   "source": [
    "scaler = StandardScaler()\n",
    "\n",
    "df[\"Close\"] = scaler.fit_transform(df[\"Close\"])"
   ]
  },
  {
   "cell_type": "code",
   "execution_count": 27,
   "id": "502f82b8",
   "metadata": {},
   "outputs": [
    {
     "data": {
      "text/plain": [
       "1370"
      ]
     },
     "execution_count": 27,
     "metadata": {},
     "output_type": "execute_result"
    }
   ],
   "source": [
    "len(df)"
   ]
  },
  {
   "cell_type": "code",
   "execution_count": 45,
   "id": "164e46fb",
   "metadata": {},
   "outputs": [],
   "source": [
    "seq_length = 30\n",
    "data = []\n",
    "\n",
    "for i in range(len(df) - seq_length):\n",
    "    # data.append(df[i:i+seq_length])\n",
    "    data.append(df[\"Close\"].values[i:i+seq_length])\n",
    "\n",
    "data = np.array(data)\n",
    "if data.ndim == 2:\n",
    "    data = data.reshape((data.shape[0], data.shape[1], 1))"
   ]
  },
  {
   "cell_type": "code",
   "execution_count": 46,
   "id": "c6cbbd57",
   "metadata": {},
   "outputs": [
    {
     "data": {
      "text/plain": [
       "array([[[-1.90941288],\n",
       "        [-1.92532212],\n",
       "        [-1.91241019],\n",
       "        ...,\n",
       "        [-1.80034199],\n",
       "        [-1.7588898 ],\n",
       "        [-1.77161485]],\n",
       "\n",
       "       [[-1.92532212],\n",
       "        [-1.91241019],\n",
       "        [-1.92009205],\n",
       "        ...,\n",
       "        [-1.7588898 ],\n",
       "        [-1.77161485],\n",
       "        [-1.77117799]],\n",
       "\n",
       "       [[-1.91241019],\n",
       "        [-1.92009205],\n",
       "        [-1.89393946],\n",
       "        ...,\n",
       "        [-1.77161485],\n",
       "        [-1.77117799],\n",
       "        [-1.80367368]],\n",
       "\n",
       "       ...,\n",
       "\n",
       "       [[ 1.20736289],\n",
       "        [ 1.23639416],\n",
       "        [ 1.25484804],\n",
       "        ...,\n",
       "        [ 1.04932093],\n",
       "        [ 0.99366119],\n",
       "        [ 1.02115306]],\n",
       "\n",
       "       [[ 1.23639416],\n",
       "        [ 1.25484804],\n",
       "        [ 1.07548486],\n",
       "        ...,\n",
       "        [ 0.99366119],\n",
       "        [ 1.02115306],\n",
       "        [ 0.93349466]],\n",
       "\n",
       "       [[ 1.25484804],\n",
       "        [ 1.07548486],\n",
       "        [ 0.930104  ],\n",
       "        ...,\n",
       "        [ 1.02115306],\n",
       "        [ 0.93349466],\n",
       "        [ 0.94295903]]])"
      ]
     },
     "execution_count": 46,
     "metadata": {},
     "output_type": "execute_result"
    }
   ],
   "source": [
    "data"
   ]
  },
  {
   "cell_type": "code",
   "execution_count": 47,
   "id": "e3ddef29",
   "metadata": {},
   "outputs": [],
   "source": [
    "# train_size = int(0.8 * len(data))\n",
    "\n",
    "# X_train = torch.from_numpy(data[:train_size, :-1, :]).type(torch.FloatTensor).to(device)\n",
    "# y_train = torch.from_numpy(data[:train_size, -1, :]).type(torch.FloatTensor).to(device)\n",
    "\n",
    "# X_test = torch.from_numpy(data[train_size:, :-1, :]).type(torch.FloatTensor).to(device)\n",
    "# y_test = torch.from_numpy(data[train_size:, -1, :]).type(torch.FloatTensor).to(device)\n",
    "\n",
    "# Train-test split\n",
    "train_size = int(0.8 * len(data))\n",
    "X_train = torch.from_numpy(data[:train_size, :-1, :]).float().to(device)\n",
    "y_train = torch.from_numpy(data[:train_size, -1, :]).float().to(device)\n",
    "X_test = torch.from_numpy(data[train_size:, :-1, :]).float().to(device)\n",
    "y_test = torch.from_numpy(data[train_size:, -1, :]).float().to(device)"
   ]
  },
  {
   "cell_type": "code",
   "execution_count": 48,
   "id": "bd175137",
   "metadata": {},
   "outputs": [],
   "source": [
    "class PredictionModel(nn.Module):\n",
    "    def __init__(self, input_size, hidden_size, num_layers, output_size):\n",
    "        super(PredictionModel, self).__init__()\n",
    "        self.hidden_size = hidden_size\n",
    "        self.num_layers = num_layers\n",
    "        self.lstm = nn.LSTM(input_size, hidden_size, num_layers, batch_first=True)\n",
    "        self.fc = nn.Linear(hidden_size, output_size)\n",
    "\n",
    "    def forward(self, x):\n",
    "        h0 = torch.zeros(self.num_layers, x.size(0), self.hidden_size, device=device)\n",
    "        c0 = torch.zeros(self.num_layers, x.size(0), self.hidden_size, device=device)\n",
    "\n",
    "        out, (hn, cn) = self.lstm(x, (h0.detach(), c0.detach()))\n",
    "        out = self.fc(out[:, -1, :])\n",
    "        return out"
   ]
  },
  {
   "cell_type": "code",
   "execution_count": 49,
   "id": "6f4624bf",
   "metadata": {},
   "outputs": [],
   "source": [
    "# model = PredictionModel(input_size=5, hidden_size=32, num_layers=2, output_size=1).to(device)\n",
    "model = PredictionModel(input_size=1, hidden_size=32, num_layers=2, output_size=1).to(device)\n"
   ]
  },
  {
   "cell_type": "code",
   "execution_count": 50,
   "id": "a2c171a8",
   "metadata": {},
   "outputs": [],
   "source": [
    "criterion = nn.MSELoss()\n",
    "optimizer = optim.Adam(model.parameters(), lr=0.01)"
   ]
  },
  {
   "cell_type": "code",
   "execution_count": 51,
   "id": "7efb2900",
   "metadata": {},
   "outputs": [
    {
     "name": "stdout",
     "output_type": "stream",
     "text": [
      "Epoch 0, loss: 0.675491213798523\n",
      "Epoch 25, loss: 0.01380599569529295\n",
      "Epoch 50, loss: 0.006281182169914246\n",
      "Epoch 75, loss: 0.005584247875958681\n",
      "Epoch 100, loss: 0.0052595664747059345\n",
      "Epoch 125, loss: 0.004984281025826931\n",
      "Epoch 150, loss: 0.004726814106106758\n",
      "Epoch 175, loss: 0.004485288634896278\n"
     ]
    }
   ],
   "source": [
    "num_epochs = 200\n",
    "\n",
    "for i in range(num_epochs):\n",
    "    y_train_pred = model(X_train)\n",
    "    loss = criterion(y_train_pred, y_train)\n",
    "\n",
    "    if i % 25 == 0:\n",
    "        print(f'Epoch {i}, loss: {loss}')\n",
    "    \n",
    "    optimizer.zero_grad()\n",
    "    loss.backward()\n",
    "    optimizer.step()"
   ]
  },
  {
   "cell_type": "code",
   "execution_count": null,
   "id": "d856429f",
   "metadata": {},
   "outputs": [],
   "source": []
  }
 ],
 "metadata": {
  "kernelspec": {
   "display_name": "Python 3",
   "language": "python",
   "name": "python3"
  },
  "language_info": {
   "codemirror_mode": {
    "name": "ipython",
    "version": 3
   },
   "file_extension": ".py",
   "mimetype": "text/x-python",
   "name": "python",
   "nbconvert_exporter": "python",
   "pygments_lexer": "ipython3",
   "version": "3.9.6"
  }
 },
 "nbformat": 4,
 "nbformat_minor": 5
}
